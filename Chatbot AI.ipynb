{
 "cells": [
  {
   "cell_type": "code",
   "execution_count": 1,
   "id": "5b74fb80-61a9-4ce1-b697-a3dd87381947",
   "metadata": {},
   "outputs": [
    {
     "data": {
      "text/plain": [
       "<Task pending name='Task-5' coro=<main() running at C:\\Users\\Deepak Reji\\AppData\\Local\\Temp\\ipykernel_1336\\689137582.py:81>>"
      ]
     },
     "execution_count": 1,
     "metadata": {},
     "output_type": "execute_result"
    },
    {
     "name": "stdout",
     "output_type": "stream",
     "text": [
      "🚀 Bot is running...\n"
     ]
    }
   ],
   "source": [
    "import os\n",
    "import pandas as pd\n",
    "import logging\n",
    "import asyncio\n",
    "from dotenv import load_dotenv\n",
    "from telegram import Update\n",
    "from telegram.ext import Application, CommandHandler, MessageHandler, filters, CallbackContext\n",
    "from openai import OpenAI\n",
    "\n",
    "# Load environment variables\n",
    "load_dotenv()\n",
    "TELEGRAM_BOT_TOKEN = os.getenv(\"TELEGRAM_BOT_TOKEN\")\n",
    "OPENAI_API_KEY = os.getenv(\"OPENAI_API_KEY\")\n",
    "\n",
    "# Initialize OpenAI client\n",
    "client = OpenAI(api_key=OPENAI_API_KEY)\n",
    "\n",
    "# Load machine issue data\n",
    "machine_df = pd.read_csv(\"machine_issues.csv\")\n",
    "\n",
    "# Set up logging\n",
    "logging.basicConfig(format=\"%(asctime)s - %(name)s - %(levelname)s - %(message)s\", level=logging.INFO)\n",
    "\n",
    "def ask_chatgpt(prompt):\n",
    "    \"\"\"Send a query to OpenAI's ChatGPT and return the response.\"\"\"\n",
    "    response = client.chat.completions.create(\n",
    "        model=\"gpt-4\",\n",
    "        messages=[\n",
    "            {\"role\": \"system\", \"content\": \"You are an expert quality control engineer.\"},\n",
    "            {\"role\": \"user\", \"content\": prompt}\n",
    "        ]\n",
    "    )\n",
    "    return response.choices[0].message.content\n",
    "\n",
    "def get_qc_summary(machine_id):\n",
    "    \"\"\"Fetch machine QC issues and generate a ChatGPT-powered analysis.\"\"\"\n",
    "    issues = machine_df[machine_df[\"machine_id\"] == machine_id]\n",
    "\n",
    "    if issues.empty:\n",
    "        return f\"❌ **Machine ID {machine_id} not found in records.** Please check the ID and try again.\"\n",
    "\n",
    "    summary = f\"🏭 **Machine QC Summary: {machine_id}**\\n\\n\"\n",
    "\n",
    "    for idx, row in issues.iterrows():\n",
    "        issue_name = row[\"issue\"]\n",
    "        category = row[\"category\"]\n",
    "        impact = row[\"impact\"]\n",
    "\n",
    "        # Generate AI-driven root cause and resolution\n",
    "        chatgpt_prompt = f\"\"\"\n",
    "        As an experienced quality control engineer, analyze the following issue and suggest possible root causes,\n",
    "        resolutions, and preventive measures.\n",
    "\n",
    "        **Issue:** {issue_name}\n",
    "        **Category:** {category}\n",
    "        **Impact:** {impact}\n",
    "\n",
    "        Provide a detailed and structured response.\n",
    "        \"\"\"\n",
    "        ai_response = ask_chatgpt(chatgpt_prompt)\n",
    "\n",
    "        summary += f\"🔴 **Issue {idx+1}: {issue_name}**\\n\"\n",
    "        summary += f\"- **Category:** {category}\\n\"\n",
    "        summary += f\"- **Impact:** {impact}\\n\\n\"\n",
    "        summary += f\"💡 **AI-Generated Analysis:**\\n{ai_response}\\n\\n\"\n",
    "        summary += \"---\\n\"\n",
    "\n",
    "    summary += \"\\n📌 **Ensure preventive actions are taken to reduce future occurrences.**\\n\"\n",
    "    return summary\n",
    "\n",
    "async def start(update: Update, context: CallbackContext) -> None:\n",
    "    \"\"\"Send a welcome message when the user starts the bot.\"\"\"\n",
    "    await update.message.reply_text(\"🤖 Hello! I am the **QC AI Chatbot**.\\nSend me a machine ID, and I will provide a detailed issue report using AI.\")\n",
    "\n",
    "async def handle_message(update: Update, context: CallbackContext) -> None:\n",
    "    \"\"\"Handle incoming messages and provide machine issue reports.\"\"\"\n",
    "    machine_id = update.message.text.strip().upper()\n",
    "    response = get_qc_summary(machine_id)\n",
    "    await update.message.reply_text(response, parse_mode=\"Markdown\")\n",
    "\n",
    "async def main():\n",
    "    \"\"\"Start the Telegram bot (Jupyter Notebook compatible).\"\"\"\n",
    "    app = Application.builder().token(TELEGRAM_BOT_TOKEN).build()\n",
    "    app.add_handler(CommandHandler(\"start\", start))\n",
    "    app.add_handler(MessageHandler(filters.TEXT & ~filters.COMMAND, handle_message))\n",
    "    \n",
    "    print(\"🚀 Bot is running...\")\n",
    "    await app.run_polling()\n",
    "\n",
    "# Run bot asynchronously in Jupyter Notebook\n",
    "asyncio.create_task(main())\n"
   ]
  },
  {
   "cell_type": "code",
   "execution_count": 2,
   "id": "7e0d1db9-d01d-4938-ae11-8b22de03c2fc",
   "metadata": {},
   "outputs": [
    {
     "ename": "NameError",
     "evalue": "name 'Start' is not defined",
     "output_type": "error",
     "traceback": [
      "\u001b[31m---------------------------------------------------------------------------\u001b[39m",
      "\u001b[31mNameError\u001b[39m                                 Traceback (most recent call last)",
      "\u001b[36mCell\u001b[39m\u001b[36m \u001b[39m\u001b[32mIn[2]\u001b[39m\u001b[32m, line 1\u001b[39m\n\u001b[32m----> \u001b[39m\u001b[32m1\u001b[39m \u001b[43mStart\u001b[49m\n",
      "\u001b[31mNameError\u001b[39m: name 'Start' is not defined"
     ]
    }
   ],
   "source": [
    "Start"
   ]
  },
  {
   "cell_type": "code",
   "execution_count": null,
   "id": "5fa474d8-7c3b-4b64-87cb-f7ab883d3a6c",
   "metadata": {},
   "outputs": [],
   "source": []
  }
 ],
 "metadata": {
  "kernelspec": {
   "display_name": "Python 3 (ipykernel)",
   "language": "python",
   "name": "python3"
  },
  "language_info": {
   "codemirror_mode": {
    "name": "ipython",
    "version": 3
   },
   "file_extension": ".py",
   "mimetype": "text/x-python",
   "name": "python",
   "nbconvert_exporter": "python",
   "pygments_lexer": "ipython3",
   "version": "3.11.11"
  }
 },
 "nbformat": 4,
 "nbformat_minor": 5
}
